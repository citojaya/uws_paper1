{
 "cells": [
  {
   "cell_type": "markdown",
   "metadata": {},
   "source": [
    "### Random Forest Regression for predicting impact energy\n",
    "#### Ref:  https://towardsdatascience.com/random-forest-in-python-24d0893d51c0"
   ]
  },
  {
   "cell_type": "code",
   "execution_count": 1,
   "metadata": {
    "scrolled": true
   },
   "outputs": [
    {
     "name": "stdout",
     "output_type": "stream",
     "text": [
      "The shape of our features is: (100, 17)\n",
      "Index(['id', 'file', 'D', 'd', 'J', 'N', 'SimTime(s)', 'energy(J)',\n",
      "       'energy/sec(W)', 'ball mass (kg)', 'rpm', 'timePerRev(s)',\n",
      "       'energyPerMass', 'Kp', 'Power', 'Power/mass', 'scaled P/M'],\n",
      "      dtype='object')\n"
     ]
    }
   ],
   "source": [
    "# Pandas is used for data manipulation\n",
    "import pandas as pd\n",
    "import matplotlib.pyplot as plt\n",
    "%matplotlib inline\n",
    "# Read in data and display first 5 rows\n",
    "\n",
    "def linear(m,x):\n",
    "    return m*x\n",
    "\n",
    "\n",
    "\n",
    "# features = pd.read_csv('../test_code_new/final_impact_energy3.csv')\n",
    "features = pd.read_excel('../test_code_new/test_final_impact_energy100.xlsx')\n",
    "# print(features.head(5))\n",
    "\n",
    "# features = features.iloc[20:-18,:] # remove D=127 and last 18 rows\n",
    "features = features.iloc[:100,:] # upto 94 rows also works\n",
    "# f = features['N'] < 0.65\n",
    "# features = features[f]\n",
    "# features = features[(features[\"N\"] == 0.7)]\n",
    "print('The shape of our features is:', features.shape)\n",
    "\n",
    "\n",
    "# Descriptive statistics for each column\n",
    "#print(features.describe())\n",
    "\n",
    "\n",
    "# One-hot encode the data using pandas get_dummies\n",
    "# features = pd.get_dummies(features)\n",
    "# Display the first 5 rows of the last 12 columns\n",
    "# print(features.iloc[5:8,:].head(5))\n",
    "print(features.columns)\n",
    "\n"
   ]
  },
  {
   "cell_type": "markdown",
   "metadata": {},
   "source": [
    "### Explore data"
   ]
  },
  {
   "cell_type": "code",
   "execution_count": null,
   "metadata": {},
   "outputs": [],
   "source": [
    "\n",
    "# import seaborn as sns\n",
    "# plt.subplots(figsize=(20,15))\n",
    "# sns.heatmap(features.corr(), annot=True)\n",
    "# features.describe()\n",
    "# sns.pairplot(features)\n",
    "# sns.distplot(features['IE_per_mass'], bins=40)\n",
    "# print(\"columns:\", features.columns)"
   ]
  },
  {
   "cell_type": "code",
   "execution_count": 2,
   "metadata": {
    "scrolled": false
   },
   "outputs": [
    {
     "name": "stdout",
     "output_type": "stream",
     "text": [
      "Training Features Shape: (80, 4)\n",
      "Training Labels Shape: (80,)\n",
      "Testing Features Shape: (20, 4)\n",
      "Testing Labels Shape: (20,)\n"
     ]
    },
    {
     "data": {
      "text/html": [
       "<div>\n",
       "<style scoped>\n",
       "    .dataframe tbody tr th:only-of-type {\n",
       "        vertical-align: middle;\n",
       "    }\n",
       "\n",
       "    .dataframe tbody tr th {\n",
       "        vertical-align: top;\n",
       "    }\n",
       "\n",
       "    .dataframe thead th {\n",
       "        text-align: right;\n",
       "    }\n",
       "</style>\n",
       "<table border=\"1\" class=\"dataframe\">\n",
       "  <thead>\n",
       "    <tr style=\"text-align: right;\">\n",
       "      <th></th>\n",
       "      <th>D</th>\n",
       "      <th>d</th>\n",
       "      <th>J</th>\n",
       "      <th>N</th>\n",
       "    </tr>\n",
       "  </thead>\n",
       "  <tbody>\n",
       "    <tr>\n",
       "      <th>D</th>\n",
       "      <td>1.000000</td>\n",
       "      <td>0.071462</td>\n",
       "      <td>0.198244</td>\n",
       "      <td>-0.058433</td>\n",
       "    </tr>\n",
       "    <tr>\n",
       "      <th>d</th>\n",
       "      <td>0.071462</td>\n",
       "      <td>1.000000</td>\n",
       "      <td>0.047019</td>\n",
       "      <td>-0.004772</td>\n",
       "    </tr>\n",
       "    <tr>\n",
       "      <th>J</th>\n",
       "      <td>0.198244</td>\n",
       "      <td>0.047019</td>\n",
       "      <td>1.000000</td>\n",
       "      <td>-0.013238</td>\n",
       "    </tr>\n",
       "    <tr>\n",
       "      <th>N</th>\n",
       "      <td>-0.058433</td>\n",
       "      <td>-0.004772</td>\n",
       "      <td>-0.013238</td>\n",
       "      <td>1.000000</td>\n",
       "    </tr>\n",
       "  </tbody>\n",
       "</table>\n",
       "</div>"
      ],
      "text/plain": [
       "          D         d         J         N\n",
       "D  1.000000  0.071462  0.198244 -0.058433\n",
       "d  0.071462  1.000000  0.047019 -0.004772\n",
       "J  0.198244  0.047019  1.000000 -0.013238\n",
       "N -0.058433 -0.004772 -0.013238  1.000000"
      ]
     },
     "execution_count": 2,
     "metadata": {},
     "output_type": "execute_result"
    }
   ],
   "source": [
    "# Use numpy to convert to arrays\n",
    "import numpy as np\n",
    "\n",
    "\n",
    "# Labels are the values we want to predict\n",
    "# features = features.iloc[14:,:] # remove top 14 rows\n",
    "\n",
    "# features[features['N'] == 0.7]\n",
    "\n",
    "labels = np.array(features['energyPerMass'])\n",
    "# labels = np.array(features['Power/mass'])\n",
    "# labels = np.array(features['Power/mass'])\n",
    "\n",
    "\n",
    "# print(features.head())\n",
    "max_IE_per_mass = labels.max()\n",
    "# labels = labels/max_IE_per_mass\n",
    "# print(max_IE_per_mass)\n",
    "\n",
    "# Remove the labels from the features\n",
    "# axis 1 refers to the columns\n",
    "features= features.drop('id', axis = 1)\n",
    "features= features.drop('file', axis = 1)\n",
    "features= features.drop('SimTime(s)', axis = 1)\n",
    "features= features.drop('energy(J)', axis = 1)\n",
    "features= features.drop('energy/sec(W)', axis = 1)\n",
    "features= features.drop('ball mass (kg)', axis = 1)\n",
    "features= features.drop('timePerRev(s)', axis = 1)\n",
    "features= features.drop('energyPerMass', axis = 1)\n",
    "# features= features.drop('SQRT', axis = 1)\n",
    "features= features.drop('Kp', axis = 1)\n",
    "features= features.drop('Power/mass', axis = 1)\n",
    "features= features.drop('Power', axis = 1)\n",
    "features= features.drop('scaled P/M', axis = 1)\n",
    "features= features.drop('rpm', axis = 1)\n",
    "# features= features.drop('J', axis = 1)\n",
    "# features= features.drop('N', axis = 1)\n",
    "\n",
    "\n",
    "# Saving feature names for later use\n",
    "# print(type(f))\n",
    "# print(features.isnull().sum())\n",
    "\n",
    "\n",
    "# from sklearn.preprocessing import StandardScaler\n",
    "\n",
    "# Scaling\n",
    "# scaler = StandardScaler()\n",
    "# scaler.fit(features)\n",
    "# scaled_data = scaler.transform(features)\n",
    "# features = scaled_data\n",
    "\n",
    "# Convert to numpy array\n",
    "# features = np.array(features)\n",
    "\n",
    "# Using Skicit-learn to split data into training and testing sets\n",
    "from sklearn.model_selection import train_test_split\n",
    "\n",
    "# Split the data into training and testing sets\n",
    "X_train, X_test, y_train, y_test = train_test_split(features, labels, test_size = 0.2, random_state = 42)\n",
    "\n",
    "\n",
    "print('Training Features Shape:', X_train.shape)\n",
    "print('Training Labels Shape:', y_train.shape)\n",
    "print('Testing Features Shape:', X_test.shape)\n",
    "print('Testing Labels Shape:', y_test.shape)\n",
    "\n",
    "\n",
    "\n",
    "\n",
    "# The baseline predictions are the historical averages\n",
    "# baseline_preds = test_features[:, feature_list.index('average')]\n",
    "# # Baseline errors, and display average baseline error\n",
    "# baseline_errors = abs(baseline_preds - test_labels)\n",
    "# print('Average baseline error: ', round(np.mean(baseline_errors), 2))\n",
    "\n",
    "# dfy = pd.DataFrame(y_test, columns=[\"y\"])\n",
    "# result = pd.concat([X_test, dfy])\n",
    "# result.to_excel(\"../test_code_new/trial_RF.xlsx\")\n",
    "# print(X_test)\n",
    "\n",
    "# features.rename(columns={'energyPerMass':'E'}, inplace=True)\n",
    "features.corr()"
   ]
  },
  {
   "cell_type": "markdown",
   "metadata": {},
   "source": [
    "### Hyperparameter tuning"
   ]
  },
  {
   "cell_type": "code",
   "execution_count": null,
   "metadata": {},
   "outputs": [],
   "source": [
    "# from sklearn.ensemble import RandomForestRegressor\n",
    "# from sklearn.model_selection import RandomizedSearchCV\n",
    "# # Number of trees in random forest\n",
    "# n_estimators = [int(x) for x in np.linspace(start = 200, stop = 2000, num = 10)]\n",
    "# # Number of features to consider at every split\n",
    "# max_features = ['auto', 'sqrt']\n",
    "# # Maximum number of levels in tree\n",
    "# max_depth = [int(x) for x in np.linspace(10, 110, num = 11)]\n",
    "# max_depth.append(None)\n",
    "# # Minimum number of samples required to split a node\n",
    "# min_samples_split = [2, 5, 10]\n",
    "# # Minimum number of samples required at each leaf node\n",
    "# min_samples_leaf = [1, 2, 4]\n",
    "# # Method of selecting samples for training each tree\n",
    "# bootstrap = [True, False]\n",
    "# # Create the random grid\n",
    "# random_grid = {'n_estimators': n_estimators,\n",
    "#                'max_features': max_features,\n",
    "#                'max_depth': max_depth,\n",
    "#                'min_samples_split': min_samples_split,\n",
    "#                'min_samples_leaf': min_samples_leaf,\n",
    "#                'bootstrap': bootstrap}\n",
    "# print(random_grid)\n",
    "\n",
    "# # Use the random grid to search for best hyperparameters\n",
    "# # First create the base model to tune\n",
    "# rf = RandomForestRegressor()\n",
    "# # Random search of parameters, using 3 fold cross validation, \n",
    "# # search across 100 different combinations, and use all available cores\n",
    "# rf_random = RandomizedSearchCV(estimator = rf, param_distributions = random_grid, n_iter = 100, cv = 3, verbose=2, random_state=42, n_jobs = -1)\n",
    "# # Fit the random search model\n",
    "# rf_random.fit(X_train, y_train)\n",
    "\n",
    "# rf_random.best_params_\n",
    "\n"
   ]
  },
  {
   "cell_type": "markdown",
   "metadata": {},
   "source": [
    "### Train the model"
   ]
  },
  {
   "cell_type": "code",
   "execution_count": 3,
   "metadata": {},
   "outputs": [
    {
     "name": "stdout",
     "output_type": "stream",
     "text": [
      "DONE\n"
     ]
    }
   ],
   "source": [
    "# Import the model we are using\n",
    "from sklearn.ensemble import RandomForestRegressor\n",
    "# Instantiate model with 1000 decision trees\n",
    "rf = RandomForestRegressor(n_estimators = 400, min_samples_split = 2,\n",
    "                           min_samples_leaf = 1,max_features='sqrt',max_depth=None,\n",
    "                            random_state = 42)\n",
    "\n",
    "# rf = RandomForestRegressor()\n",
    "# Train the model on training data\n",
    "rf.fit(X_train, y_train);\n",
    "\n",
    "\n",
    "print(\"DONE\")"
   ]
  },
  {
   "cell_type": "markdown",
   "metadata": {},
   "source": [
    "### Prediction"
   ]
  },
  {
   "cell_type": "code",
   "execution_count": 4,
   "metadata": {},
   "outputs": [
    {
     "name": "stdout",
     "output_type": "stream",
     "text": [
      "Mean Absolute Error: 0.0744 IE_per_mass.\n"
     ]
    }
   ],
   "source": [
    "# Use the forest's predict method on the test data\n",
    "predictions = rf.predict(X_test)\n",
    "\n",
    "# Calculate the absolute errors\n",
    "errors = abs(predictions - y_test)\n",
    "# Print out the mean absolute error (mae)\n",
    "print('Mean Absolute Error:', round(np.mean(errors), 5), 'IE_per_mass.')\n",
    "# print(X_test)"
   ]
  },
  {
   "cell_type": "markdown",
   "metadata": {},
   "source": [
    "### Determine Performance Metrics"
   ]
  },
  {
   "cell_type": "code",
   "execution_count": 5,
   "metadata": {},
   "outputs": [
    {
     "name": "stdout",
     "output_type": "stream",
     "text": [
      "Accuracy: 93.55 %.\n",
      "R2 : 0.9360061892210236\n"
     ]
    }
   ],
   "source": [
    "# Calculate mean absolute percentage error (MAPE)\n",
    "mape = 100 * (errors / y_test)\n",
    "\n",
    "# Calculate and display accuracy\n",
    "accuracy = 100 - np.mean(mape)\n",
    "print('Accuracy:', round(accuracy, 2), '%.')\n",
    "\n",
    "from sklearn.metrics import mean_absolute_error,mean_squared_error,r2_score\n",
    "# RMS\n",
    "mean_squared_error(y_test,predictions)**0.5\n",
    "print(\"R2 :\",r2_score(y_test,predictions,multioutput='variance_weighted'))"
   ]
  },
  {
   "cell_type": "markdown",
   "metadata": {},
   "source": [
    "### Variable Importances\n",
    "#### In order to quantify the usefulness of all the variables in the entire random forest, we can look at the relative importances of the variables. "
   ]
  },
  {
   "cell_type": "code",
   "execution_count": null,
   "metadata": {},
   "outputs": [],
   "source": [
    "# Get numerical feature importances\n",
    "# importances = list(rf.feature_importances_)\n",
    "# # List of tuples with variable and importance\n",
    "# feature_importances = [(feature, round(importance, 2)) for feature, importance in zip(feature_list, importances)]\n",
    "# # Sort the feature importances by most important first\n",
    "# feature_importances = sorted(feature_importances, key = lambda x: x[1], reverse = True)\n",
    "# # Print out the feature and importances \n",
    "# [print('Variable: {:20} Importance: {}'.format(*pair)) for pair in feature_importances];"
   ]
  },
  {
   "cell_type": "markdown",
   "metadata": {},
   "source": [
    "### Visualization\n"
   ]
  },
  {
   "cell_type": "code",
   "execution_count": null,
   "metadata": {
    "scrolled": true
   },
   "outputs": [],
   "source": [
    "# Import matplotlib for plotting and use magic command for Jupyter Notebooks\n",
    "# import matplotlib.pyplot as plt\n",
    "# %matplotlib inline\n",
    "# # Set the style\n",
    "# plt.style.use('fivethirtyeight')\n",
    "# # list of x locations for plotting\n",
    "# x_values = list(range(len(importances)))\n",
    "# # Make a bar chart\n",
    "# plt.bar(x_values, importances, orientation = 'vertical')\n",
    "# # Tick labels for x axis\n",
    "# plt.xticks(x_values, feature_list, rotation='vertical')\n",
    "# # Axis labels and title\n",
    "# plt.ylabel('Importance'); plt.xlabel('Variable'); plt.title('Variable Importances');"
   ]
  },
  {
   "cell_type": "markdown",
   "metadata": {},
   "source": [
    "### Test for large scale"
   ]
  },
  {
   "cell_type": "code",
   "execution_count": 6,
   "metadata": {
    "scrolled": true
   },
   "outputs": [
    {
     "name": "stdout",
     "output_type": "stream",
     "text": [
      "NO OF FEATURES 94\n",
      "NO OF PREDICTIONS 94\n",
      "Index(['D', 'd', 'J', 'N'], dtype='object')\n"
     ]
    }
   ],
   "source": [
    "features = pd.read_excel('../test_code_new/trial_RF.xlsx')\n",
    "# features = features[(features[\"N\"] == 0.7)]\n",
    "# features = pd.read_excel('../test_code_new/test_data.xlsx')\n",
    "\n",
    "# features = features.iloc[:-3,:] # \n",
    "\n",
    "\n",
    "\n",
    "actual = np.array(features['energyPerMass'])\n",
    "\n",
    "# labels = np.array(features['Power/mass'])\n",
    "# labels = np.array(features['Power/mass'])\n",
    "\n",
    "\n",
    "# print(features.head())\n",
    "max_IE_per_mass = labels.max()\n",
    "# labels = labels/max_IE_per_mass\n",
    "# print(max_IE_per_mass)\n",
    "\n",
    "# Remove the labels from the features\n",
    "# axis 1 refers to the columns\n",
    "features= features.drop('id', axis = 1)\n",
    "# features= features.drop('file', axis = 1)\n",
    "# features= features.drop('SimTime(s)', axis = 1)\n",
    "# features= features.drop('energy(J)', axis = 1)\n",
    "# features= features.drop('energy/sec(W)', axis = 1)\n",
    "# features= features.drop('ball mass (kg)', axis = 1)\n",
    "# features= features.drop('timePerRev(s)', axis = 1)\n",
    "features= features.drop('energyPerMass', axis = 1)\n",
    "# features= features.drop('Kp', axis = 1)\n",
    "# features= features.drop('Power/mass', axis = 1)\n",
    "# features= features.drop('Power', axis = 1)\n",
    "# features= features.drop('scaled P/M', axis = 1)\n",
    "# features= features.drop('rpm', axis = 1)\n",
    "\n",
    "\n",
    "# Scaling\n",
    "# scaler = StandardScaler()\n",
    "# scaler.fit(test_features)\n",
    "# scaled_data = scaler.transform(test_features)\n",
    "# test_features = scaled_data\n",
    "\n",
    "predictions = rf.predict(features)\n",
    "print(\"NO OF FEATURES\",len(features))\n",
    "print(\"NO OF PREDICTIONS\", len(predictions))\n",
    "print(features.columns)\n",
    "# print(actual)\n",
    "# print(predictions)\n"
   ]
  },
  {
   "cell_type": "markdown",
   "metadata": {},
   "source": [
    "### Compare actual vs prediction"
   ]
  },
  {
   "cell_type": "code",
   "execution_count": 7,
   "metadata": {},
   "outputs": [
    {
     "name": "stdout",
     "output_type": "stream",
     "text": [
      "Mean Absolute Error: 0.23161 IE_per_mass.\n",
      "Accuracy: 66.64 %.\n",
      "Mean Sq Error : 0.4249396740817732\n",
      "r2 score : 0.3726942087858671\n",
      "0.7\n"
     ]
    }
   ],
   "source": [
    "# Calculate the absolute errors\n",
    "errors = abs(predictions - actual)\n",
    "# Print out the mean absolute error (mae)\n",
    "print('Mean Absolute Error:', round(np.mean(errors), 5), 'IE_per_mass.')\n",
    "\n",
    "maxlim = 22\n",
    "# Calculate mean absolute percentage error (MAPE)\n",
    "mape = 100 * (errors[maxlim:] / actual[maxlim:])\n",
    "# Calculate and display accuracy\n",
    "accuracy = 100 - np.mean(mape)\n",
    "print('Accuracy:', round(accuracy, 2), '%.')\n",
    "\n",
    "from sklearn.metrics import mean_absolute_error,mean_squared_error,r2_score\n",
    "# RMS\n",
    "print(\"Mean Sq Error :\",mean_squared_error(actual,predictions)**0.5)\n",
    "print(\"r2 score :\",r2_score(actual,predictions))\n",
    "print(actual[maxlim])"
   ]
  },
  {
   "cell_type": "code",
   "execution_count": 8,
   "metadata": {
    "scrolled": true
   },
   "outputs": [
    {
     "name": "stdout",
     "output_type": "stream",
     "text": [
      "[(      D     d    J    N\n",
      "17  508  25.4  0.5  0.6, '  ', '0.6737742986997032'), (       D     d    J    N\n",
      "36  2000  12.7  0.3  0.7, '  ', '1.30114127070096'), (       D     d    J    N\n",
      "39  2000  12.7  0.4  0.7, '  ', '1.3388368174238972'), (       D     d    J    N\n",
      "42  2000  12.7  0.5  0.7, '  ', '1.233083163033681'), (       D     d    J    N\n",
      "56  2800  25.4  0.5  0.6, '  ', '0.7620884095997806'), (       D     d    J    N\n",
      "61  3000  12.7  0.4  0.5, '  ', '0.6082771983210812'), (       D     d    J    N\n",
      "62  3000  12.7  0.4  0.6, '  ', '0.5737601155182337'), (       D     d    J    N\n",
      "63  3000  12.7  0.4  0.7, '  ', '1.2806265210141627'), (       D     d    J    N\n",
      "64  3000  12.7  0.5  0.5, '  ', '0.7343066587120451'), (       D     d    J    N\n",
      "65  3000  12.7  0.5  0.6, '  ', '0.6346345758186772'), (       D     d    J    N\n",
      "66  3000  12.7  0.5  0.7, '  ', '1.4371189548263708'), (       D      d    J    N\n",
      "67  3000  19.05  0.3  0.5, '  ', '0.5333325941202973'), (       D      d    J    N\n",
      "68  3000  19.05  0.3  0.6, '  ', '0.476090223578397'), (       D      d    J    N\n",
      "70  3000  19.05  0.4  0.5, '  ', '0.5131326185437728'), (       D      d    J    N\n",
      "71  3000  19.05  0.4  0.6, '  ', '0.46152893804441264'), (       D      d    J    N\n",
      "73  3000  19.05  0.5  0.5, '  ', '0.643623510480397'), (       D      d    J    N\n",
      "74  3000  19.05  0.5  0.6, '  ', '0.5487095668453781'), (       D      d    J    N\n",
      "75  3000  19.05  0.5  0.7, '  ', '1.233695504045793'), (       D     d    J    N\n",
      "76  3000  25.4  0.3  0.5, '  ', '0.39913616780983513'), (       D     d    J    N\n",
      "77  3000  25.4  0.3  0.6, '  ', '0.36547695974205485'), (       D     d    J    N\n",
      "78  3000  25.4  0.3  0.7, '  ', '0.7183078092086876'), (       D     d    J    N\n",
      "79  3000  25.4  0.4  0.5, '  ', '0.41907921671168225'), (       D     d    J    N\n",
      "80  3000  25.4  0.4  0.6, '  ', '0.374594944059965'), (       D     d    J    N\n",
      "82  3000  25.4  0.5  0.5, '  ', '0.6643851068225002'), (       D     d    J    N\n",
      "83  3000  25.4  0.5  0.6, '  ', '0.6758415346583373'), (       D      d    J    N\n",
      "86  3000  31.75  0.3  0.6, '  ', '0.7412782626615362'), (       D      d    J    N\n",
      "87  3000  31.75  0.3  0.7, '  ', '0.7253245572713313'), (       D      d    J    N\n",
      "89  3000  31.75  0.4  0.6, '  ', '0.7972600459254826'), (       D      d    J    N\n",
      "90  3000  31.75  0.4  0.7, '  ', '2.4809467135523358'), (       D      d    J    N\n",
      "92  3000  31.75  0.5  0.6, '  ', '0.7715038514443346'), (       D      d    J    N\n",
      "93  3000  31.75  0.5  0.7, '  ', '3.0755231021399014')]\n",
      "TOTAL DATA 77\n",
      "NO OF INVALID 31\n",
      "NO OF VALID 46\n"
     ]
    },
    {
     "data": {
      "image/png": "[encoded data removed]",
      "text/plain": [
       "<Figure size 432x288 with 1 Axes>"
      ]
     },
     "metadata": {
      "needs_background": "light"
     },
     "output_type": "display_data"
    }
   ],
   "source": [
    "import matplotlib.pyplot as plt\n",
    "# Plot actual and prediction\n",
    "\n",
    "plt.rc('axes', labelsize=14) #font size of axes label\n",
    "plt.rc('xtick', labelsize=14) #font size of tick label\n",
    "plt.rc('ytick', labelsize=14) #font size of tick label\n",
    "\n",
    "fig = plt.figure()\n",
    "ax = fig.add_axes([0.2,0.2,0.7,0.7])\n",
    "\n",
    "ax.set_xlim(0,2)\n",
    "ax.set_ylim(0,2)\n",
    "\n",
    "x = np.arange(0.4,2,0.2)\n",
    "m = 1\n",
    "y = linear(m, x)\n",
    "\n",
    "maxlim = 17\n",
    "valid = []\n",
    "invalid = []\n",
    "\n",
    "for i in range(len(actual[maxlim:])):\n",
    "    if (actual[maxlim+i]/predictions[maxlim+i] > 0.8 and actual[maxlim+i]/predictions[maxlim+i] < 1.2):\n",
    "        valid.append(True)\n",
    "    else:\n",
    "        valid.append(False)\n",
    "        invalid.append((features.iloc[i+maxlim:i+maxlim+1,:],\"  \",str(actual[maxlim+i]/predictions[maxlim+i])))\n",
    "# valid = (actual[maxlim:]/predictions[maxlim:] > 0.9 and actual[maxlim:]/predictions[maxlim:] < 1.0)\n",
    "\n",
    "\n",
    "print(invalid)\n",
    "\n",
    "newAct = []\n",
    "newPred = []\n",
    "\n",
    "count = 0\n",
    "for i in range(len(valid)):\n",
    "    if(valid[i]):\n",
    "        newAct.append(actual[i+maxlim])\n",
    "        newPred.append(predictions[i+maxlim])\n",
    "        count += 1\n",
    "\n",
    "print(\"TOTAL DATA\",len(actual[maxlim:]))\n",
    "print(\"NO OF INVALID\",len(invalid))\n",
    "print(\"NO OF VALID\", count)       \n",
    "        \n",
    "# print(actual[maxlim:]/predictions[maxlim:] > 0.9)\n",
    "\n",
    "# valid = actual[:]\n",
    "\n",
    "ax.scatter(newAct, newPred,label=\"Prediction D >= 2000 mm\",c='blue')\n",
    "ax.scatter(actual[:maxlim], predictions[:maxlim],label=\"Test data D <= 508 mm\",c='red', alpha=1.0)\n",
    "# ax.scatter(actual[maxlim:], predictions[maxlim:],label=\"Prediction D >= 2000 mm\",c='blue')\n",
    "\n",
    "\n",
    "# print(actual)\n",
    "# ax.scatter(actual[:], predictions[:],c='blue')\n",
    "ax.plot(x,y,color='black', linestyle='dotted',linewidth=2.0, alpha=0.5)\n",
    "\n",
    "ax.set_ylabel(\"Predicted E$_i$ (W/kg)\")\n",
    "ax.set_xlabel(\"Actual E$_i$ (W/kg)\")\n",
    "# ax.text(2150, 0.55, '$D_{50}$', fontsize=15)\n",
    "# ax.text(0.2, 1.3, '$R^{2}$ = 0.9', fontsize=12)\n",
    "ax.text(0.2, 1.3, '$r$ = 0.9', fontsize=12)\n",
    "# ax.text(0.1, 1.1, 'accuracy = 80%', fontsize=12)\n",
    "# ax.text(0.55, 1.7, 'Prediction D = 2000 mm', fontsize=12)\n",
    "# ax.text(0.55, 1.6, 'Prediction D = 4000 mm', fontsize=12)\n",
    "# ax.legend(loc=\"upper right\")\n",
    "lg = ax.legend(loc=\"upper left\")\n",
    "lg.get_frame().set_alpha(0)\n",
    "\n",
    "plt.show()\n",
    "\n",
    "import os\n",
    "# save figure\n",
    "path = \"E:/mill/Paper/pics\"\n",
    "fout = os.path.join(path, \"RT_RF_prediction_power_test.jpg\")\n",
    "fig.savefig(fout, dpi=300)\n"
   ]
  },
  {
   "cell_type": "code",
   "execution_count": null,
   "metadata": {
    "scrolled": true
   },
   "outputs": [],
   "source": [
    "# # Use datetime for creating date objects for plotting\n",
    "# import datetime\n",
    "\n",
    "# # Dates of training values\n",
    "# months = features[:, feature_list.index('month')]\n",
    "# days = features[:, feature_list.index('day')]\n",
    "# years = features[:, feature_list.index('year')]\n",
    "\n",
    "\n",
    "# # List and then convert to datetime object\n",
    "# dates = [str(int(year)) + '-' + str(int(month)) + '-' + str(int(day)) for year, month, day in zip(years, months, days)]\n",
    "# dates = [datetime.datetime.strptime(date, '%Y-%m-%d') for date in dates]\n",
    "\n",
    "# # Dataframe with true values and dates\n",
    "# true_data = pd.DataFrame(data = {'date': dates, 'actual': labels})\n",
    "\n",
    "# # Dates of predictions\n",
    "# months = test_features[:, feature_list.index('month')]\n",
    "# days = test_features[:, feature_list.index('day')]\n",
    "# years = test_features[:, feature_list.index('year')]\n",
    "\n",
    "# # Column of     \n",
    "# test_dates = [str(int(year)) + '-' + str(int(month)) + '-' + str(int(day)) for year,\n",
    "\n",
    "\n",
    "\n",
    "\n",
    "\n",
    "\n",
    "# month, day in zip(years, months, days)]\n",
    "\n",
    "# # Convert to datetime objects\n",
    "# test_dates = [datetime.datetime.strptime(date, '%Y-%m-%d') for date in test_dates]\n",
    "\n",
    "# # Dataframe with predictions and dates\n",
    "# predictions_data = pd.DataFrame(data = {'date': test_dates, 'prediction': predictions})\n",
    "\n",
    "# # Plot the actual values\n",
    "# plt.plot(true_data['date'], true_data['actual'], 'b-', label = 'actual')\n",
    "\n",
    "# # Plot the predicted values\n",
    "# plt.plot(predictions_data['date'], predictions_data['prediction'], 'ro', label = 'prediction')\n",
    "# plt.xticks(rotation = '60'); \n",
    "# plt.legend()\n",
    "\n",
    "# # Graph labels\n",
    "# plt.xlabel('Date'); plt.ylabel('Maximum Temperature (F)'); plt.title('Actual and Predicted Values');"
   ]
  },
  {
   "cell_type": "code",
   "execution_count": null,
   "metadata": {},
   "outputs": [],
   "source": [
    "# # Make the data accessible for plotting\n",
    "# true_data['temp_1'] = features[:, feature_list.index('temp_1')]\n",
    "# true_data['average'] = features[:, feature_list.index('average')]\n",
    "# true_data['friend'] = features[:, feature_list.index('friend')]\n",
    "# # Plot all the data as lines\n",
    "# plt.plot(true_data['date'], true_data['actual'], 'b-', label  = 'actual', alpha = 1.0)\n",
    "# plt.plot(true_data['date'], true_data['temp_1'], 'y-', label  = 'temp_1', alpha = 1.0)\n",
    "# plt.plot(true_data['date'], true_data['average'], 'k-', label = 'average', alpha = 0.8)\n",
    "# plt.plot(true_data['date'], true_data['friend'], 'r-', label = 'friend', alpha = 0.3)\n",
    "# # Formatting plot\n",
    "# plt.legend(); plt.xticks(rotation = '60');\n",
    "# # Lables and title\n",
    "# plt.xlabel('Date'); plt.ylabel('Maximum Temperature (F)'); plt.title('Actual Max Temp and Variables');"
   ]
  },
  {
   "cell_type": "code",
   "execution_count": null,
   "metadata": {},
   "outputs": [],
   "source": []
  }
 ],
 "metadata": {
  "kernelspec": {
   "display_name": "Python 3",
   "language": "python",
   "name": "python3"
  },
  "language_info": {
   "codemirror_mode": {
    "name": "ipython",
    "version": 3
   },
   "file_extension": ".py",
   "mimetype": "text/x-python",
   "name": "python",
   "nbconvert_exporter": "python",
   "pygments_lexer": "ipython3",
   "version": "3.8.5"
  }
 },
 "nbformat": 4,
 "nbformat_minor": 4
}
