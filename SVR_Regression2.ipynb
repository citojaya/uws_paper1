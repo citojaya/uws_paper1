{
 "cells": [
  {
   "cell_type": "markdown",
   "metadata": {},
   "source": [
    "### Support Vector Regression for predicting impact energy\n"
   ]
  },
  {
   "cell_type": "code",
   "execution_count": 1,
   "metadata": {
    "scrolled": true
   },
   "outputs": [
    {
     "name": "stdout",
     "output_type": "stream",
     "text": [
      "The shape of our features is: (94, 17)\n",
      "Index(['id', 'file', 'D', 'd', 'J', 'N', 'SimTime(s)', 'energy(J)',\n",
      "       'energy/sec(W)', 'ball mass (kg)', 'rpm', 'timePerRev(s)',\n",
      "       'energyPerMass', 'Kp', 'Power', 'Power/mass', 'scaled P/M'],\n",
      "      dtype='object')\n"
     ]
    }
   ],
   "source": [
    "# Pandas is used for data manipulation\n",
    "import pandas as pd\n",
    "import matplotlib.pyplot as plt\n",
    "%matplotlib inline\n",
    "# Read in data and display first 5 rows\n",
    "\n",
    "def linear(m,x):\n",
    "    return m*x\n",
    "\n",
    "\n",
    "\n",
    "# features = pd.read_csv('../test_code_new/final_impact_energy3.csv')\n",
    "features = pd.read_excel('../test_code_new/final_impact_energy100.xlsx')\n",
    "# print(features.head(5))\n",
    "\n",
    "features = features.iloc[:94,:] # remove last six rows\n",
    "print('The shape of our features is:', features.shape)\n",
    "\n",
    "\n",
    "# Descriptive statistics for each column\n",
    "#print(features.describe())\n",
    "\n",
    "\n",
    "# One-hot encode the data using pandas get_dummies\n",
    "# features = pd.get_dummies(features)\n",
    "# Display the first 5 rows of the last 12 columns\n",
    "# print(features.iloc[5:8,:].head(5))\n",
    "print(features.columns)\n",
    "\n"
   ]
  },
  {
   "cell_type": "markdown",
   "metadata": {},
   "source": [
    "### Explore data"
   ]
  },
  {
   "cell_type": "code",
   "execution_count": 2,
   "metadata": {},
   "outputs": [],
   "source": [
    "\n",
    "# import seaborn as sns\n",
    "# plt.subplots(figsize=(20,15))\n",
    "# sns.heatmap(features.corr(), annot=True)\n",
    "# features.describe()\n",
    "# sns.pairplot(features)\n",
    "# sns.distplot(features['IE_per_mass'], bins=40)\n",
    "# print(\"columns:\", features.columns)"
   ]
  },
  {
   "cell_type": "code",
   "execution_count": 3,
   "metadata": {
    "scrolled": false
   },
   "outputs": [
    {
     "name": "stdout",
     "output_type": "stream",
     "text": [
      "Training Features Shape: (75, 4)\n",
      "Training Labels Shape: (75,)\n",
      "Testing Features Shape: (19, 4)\n",
      "Testing Labels Shape: (19,)\n",
      "Index(['D', 'd', 'J', 'N'], dtype='object')\n"
     ]
    }
   ],
   "source": [
    "# Use numpy to convert to arrays\n",
    "import numpy as np\n",
    "\n",
    "\n",
    "# Labels are the values we want to predict\n",
    "# features = features.iloc[14:,:] # remove top 14 rows\n",
    "\n",
    "# features[features['N'] == 0.7]\n",
    "\n",
    "labels = np.array(features['energyPerMass'])\n",
    "# labels = np.array(features['Power/mass'])\n",
    "# labels = np.array(features['Power/mass'])\n",
    "\n",
    "\n",
    "# print(features.head())\n",
    "max_IE_per_mass = labels.max()\n",
    "# labels = labels/max_IE_per_mass\n",
    "# print(max_IE_per_mass)\n",
    "\n",
    "# Remove the labels from the features\n",
    "# axis 1 refers to the columns\n",
    "features= features.drop('id', axis = 1)\n",
    "features= features.drop('file', axis = 1)\n",
    "features= features.drop('SimTime(s)', axis = 1)\n",
    "features= features.drop('energy(J)', axis = 1)\n",
    "features= features.drop('energy/sec(W)', axis = 1)\n",
    "features= features.drop('ball mass (kg)', axis = 1)\n",
    "features= features.drop('timePerRev(s)', axis = 1)\n",
    "features= features.drop('energyPerMass', axis = 1)\n",
    "# features= features.drop('SQRT', axis = 1)\n",
    "features= features.drop('Kp', axis = 1)\n",
    "features= features.drop('Power/mass', axis = 1)\n",
    "features= features.drop('Power', axis = 1)\n",
    "features= features.drop('scaled P/M', axis = 1)\n",
    "\n",
    "features= features.drop('rpm', axis = 1)\n",
    "# features= features.drop('J', axis = 1)\n",
    "# features= features.drop('N', axis = 1)\n",
    "\n",
    "\n",
    "# Saving feature names for later use\n",
    "# print(type(f))\n",
    "# print(features.isnull().sum())\n",
    "\n",
    "\n",
    "# from sklearn.preprocessing import StandardScaler\n",
    "\n",
    "# Scaling\n",
    "# scaler = StandardScaler()\n",
    "# scaler.fit(features)\n",
    "# scaled_data = scaler.transform(features)\n",
    "# features = scaled_data\n",
    "\n",
    "# Convert to numpy array\n",
    "# features = np.array(features)\n",
    "\n",
    "# Using Skicit-learn to split data into training and testing sets\n",
    "from sklearn.model_selection import train_test_split\n",
    "\n",
    "# Split the data into training and testing sets\n",
    "X_train, X_test, y_train, y_test = train_test_split(features, labels, test_size = 0.2, random_state = 42)\n",
    "\n",
    "\n",
    "# dfy = pd.DataFrame(y_test, columns=[\"y\"])\n",
    "# result = pd.concat([X_test, dfy])\n",
    "# result.to_excel(\"../test_code_new/trial_SVR.xlsx\")\n",
    "\n",
    "\n",
    "print('Training Features Shape:', X_train.shape)\n",
    "print('Training Labels Shape:', y_train.shape)\n",
    "print('Testing Features Shape:', X_test.shape)\n",
    "print('Testing Labels Shape:', y_test.shape)\n",
    "\n",
    "\n",
    "# The baseline predictions are the historical averages\n",
    "# baseline_preds = test_features[:, feature_list.index('average')]\n",
    "# # Baseline errors, and display average baseline error\n",
    "# baseline_errors = abs(baseline_preds - test_labels)\n",
    "# print('Average baseline error: ', round(np.mean(baseline_errors), 2))\n",
    "# dfy = pd.DataFrame(y_test, columns=[\"y\"])\n",
    "# result = pd.concat([X_test, dfy])\n",
    "# result.to_excel(\"../test_code_new/trial_RF_SVR.xlsx\")\n",
    "# print(X_test)\n",
    "print(X_train.columns)\n"
   ]
  },
  {
   "cell_type": "markdown",
   "metadata": {},
   "source": [
    "### Elastic Net Regression hyperparameter tuning"
   ]
  },
  {
   "cell_type": "code",
   "execution_count": 4,
   "metadata": {},
   "outputs": [],
   "source": [
    "# from sklearn.model_selection import GridSearchCV\n",
    "# from sklearn.model_selection import RepeatedKFold\n",
    "# from sklearn.linear_model import ElasticNet\n",
    "\n",
    "# # define model\n",
    "# model = ElasticNet()\n",
    "# # define model evaluation method\n",
    "# cv = RepeatedKFold(n_splits=10, n_repeats=3, random_state=1)\n",
    "# # define grid\n",
    "# grid = dict()\n",
    "# grid['alpha'] = [1e-5, 1e-4, 1e-3, 1e-2, 1e-1, 0.0, 1.0, 10.0, 100.0]\n",
    "# grid['l1_ratio'] = np.arange(0, 1, 0.01)\n",
    "# # define search\n",
    "# search = GridSearchCV(model, grid, scoring='neg_mean_absolute_error', cv=cv, n_jobs=-1)\n",
    "# # perform the search\n",
    "# results = search.fit(X_train, y_train)\n",
    "# # summarize\n",
    "# print('MAE: %.3f' % results.best_score_)\n",
    "# print('Config: %s' % results.best_params_)"
   ]
  },
  {
   "cell_type": "markdown",
   "metadata": {},
   "source": [
    "### Train Model"
   ]
  },
  {
   "cell_type": "code",
   "execution_count": 5,
   "metadata": {},
   "outputs": [
    {
     "name": "stdout",
     "output_type": "stream",
     "text": [
      "DONE\n"
     ]
    }
   ],
   "source": [
    "#3 Feature Scaling\n",
    "# from sklearn.preprocessing import StandardScaler\n",
    "# sc_X = StandardScaler()\n",
    "# sc_y = StandardScaler()\n",
    "# X = sc_X.fit_transform(train_features)\n",
    "# y = sc_y.fit_transform(train_labels)\n",
    "\n",
    "#4 Fitting the Support Vector Regression Model to the dataset\n",
    "# Create your support vector regressor here\n",
    "# from sklearn.svm import SVR\n",
    "# most important SVR parameter is Kernel type. It can be #linear,polynomial or gaussian SVR. We have a non-linear condition #so we can select polynomial or gaussian but here we select RBF(a #gaussian type) kernel.\n",
    "# svr_rbf = SVR(kernel='rbf', C=100, gamma=0.1, epsilon=.1)\n",
    "# model = SVR(kernel='linear', C=100, gamma='auto')\n",
    "# model = SVR(kernel='poly', C=100, gamma='auto', degree=3, epsilon=.1,coef0=1)\n",
    "\n",
    "# ElasticNetCV regression\n",
    "# from sklearn.linear_model import ElasticNetCV\n",
    "# model = ElasticNetCV()\n",
    "\n",
    "# from sklearn.linear_model import LassoCV\n",
    "# model = LassoCV()\n",
    "\n",
    "# model = SVR(C=100, gamma=0.0001, kernel='rbf')\n",
    "# model = SVR(kernel='rbf', C=1000, gamma='auto', epsilon=.1)\n",
    "# model = SVR(kernel='linear', C=100, gamma='auto')  # not working\n",
    "# model = SVR(kernel='poly', C=100, gamma='auto', degree=3, epsilon=.1,coef0=1) # not working\n",
    "\n",
    "# Linear Regression\n",
    "# from sklearn.linear_model import LinearRegression \n",
    "# model = LinearRegression() # working\n",
    "# # Train the model on training data\n",
    "# model.fit(X_train, y_train);\n",
    "\n",
    "### Partial Least Square Regression\n",
    "from sklearn.cross_decomposition import PLSRegression\n",
    "# import pylab as pl\n",
    "# from sklearn.cross_decomposition import PLSRegression as PLSR\n",
    "# # from sklearn.pls_model import PLSCanonical, PLSRegression, CCA\n",
    "model = PLSRegression(n_components=4) # working\n",
    "model.fit(X_train, y_train);\n",
    "\n",
    "## Elastic Net Regression\n",
    "# from sklearn.linear_model import ElasticNet\n",
    "\n",
    "## Elastic Net Regression\n",
    "# model = ElasticNet(alpha=1e-5, l1_ratio=0.0) # working\n",
    "# model.fit(X_train, y_train);\n",
    "# print(model.alpha_)\n",
    "# print(model.l1_ratio_)\n",
    "\n",
    "print(\"DONE\")"
   ]
  },
  {
   "cell_type": "markdown",
   "metadata": {},
   "source": [
    "### Prediction"
   ]
  },
  {
   "cell_type": "code",
   "execution_count": 6,
   "metadata": {},
   "outputs": [
    {
     "name": "stdout",
     "output_type": "stream",
     "text": [
      "Mean Absolute Error: 0.39541 IE_per_mass.\n"
     ]
    }
   ],
   "source": [
    "# Use the predict method on the test data\n",
    "predictions = model.predict(X_test)\n",
    "\n",
    "# Calculate the absolute errors\n",
    "errors = abs(predictions - y_test)\n",
    "# Print out the mean absolute error (mae)\n",
    "print('Mean Absolute Error:', round(np.mean(errors), 5), 'IE_per_mass.')\n",
    "# print(X_test)"
   ]
  },
  {
   "cell_type": "markdown",
   "metadata": {},
   "source": [
    "### Determine Performance Metrics"
   ]
  },
  {
   "cell_type": "code",
   "execution_count": 7,
   "metadata": {},
   "outputs": [
    {
     "name": "stdout",
     "output_type": "stream",
     "text": [
      "Accuracy: 62.8 %.\n",
      "R2 : 0.9109268850174029\n"
     ]
    }
   ],
   "source": [
    "# Calculate mean absolute percentage error (MAPE)\n",
    "mape = 100 * (errors / y_test)\n",
    "\n",
    "# Calculate and display accuracy\n",
    "accuracy = 100 - np.mean(mape)\n",
    "print('Accuracy:', round(accuracy, 2), '%.')\n",
    "\n",
    "from sklearn.metrics import mean_absolute_error,mean_squared_error,r2_score\n",
    "# RMS\n",
    "mean_squared_error(y_test,predictions)**0.5\n",
    "print(\"R2 :\",r2_score(y_test,predictions,multioutput='variance_weighted'))"
   ]
  },
  {
   "cell_type": "markdown",
   "metadata": {},
   "source": [
    "### Variable Importances\n",
    "#### In order to quantify the usefulness of all the variables in the entire random forest, we can look at the relative importances of the variables. "
   ]
  },
  {
   "cell_type": "code",
   "execution_count": 8,
   "metadata": {},
   "outputs": [],
   "source": [
    "# Get numerical feature importances\n",
    "# importances = list(rf.feature_importances_)\n",
    "# # List of tuples with variable and importance\n",
    "# feature_importances = [(feature, round(importance, 2)) for feature, importance in zip(feature_list, importances)]\n",
    "# # Sort the feature importances by most important first\n",
    "# feature_importances = sorted(feature_importances, key = lambda x: x[1], reverse = True)\n",
    "# # Print out the feature and importances \n",
    "# [print('Variable: {:20} Importance: {}'.format(*pair)) for pair in feature_importances];"
   ]
  },
  {
   "cell_type": "markdown",
   "metadata": {},
   "source": [
    "### Visualization\n"
   ]
  },
  {
   "cell_type": "code",
   "execution_count": 9,
   "metadata": {
    "scrolled": true
   },
   "outputs": [],
   "source": [
    "# Import matplotlib for plotting and use magic command for Jupyter Notebooks\n",
    "# import matplotlib.pyplot as plt\n",
    "# %matplotlib inline\n",
    "# # Set the style\n",
    "# plt.style.use('fivethirtyeight')\n",
    "# # list of x locations for plotting\n",
    "# x_values = list(range(len(importances)))\n",
    "# # Make a bar chart\n",
    "# plt.bar(x_values, importances, orientation = 'vertical')\n",
    "# # Tick labels for x axis\n",
    "# plt.xticks(x_values, feature_list, rotation='vertical')\n",
    "# # Axis labels and title\n",
    "# plt.ylabel('Importance'); plt.xlabel('Variable'); plt.title('Variable Importances');"
   ]
  },
  {
   "cell_type": "markdown",
   "metadata": {},
   "source": [
    "### Test for large scale"
   ]
  },
  {
   "cell_type": "code",
   "execution_count": 10,
   "metadata": {
    "scrolled": true
   },
   "outputs": [
    {
     "name": "stdout",
     "output_type": "stream",
     "text": [
      "     id    D      d    J    N  energyPerMass\n",
      "0  40.0  254  25.40  0.3  0.6       1.725006\n",
      "1  22.0  254  12.70  0.3  0.6       1.389988\n",
      "2  55.0  254  31.75  0.5  0.6       1.200000\n",
      "3  70.0  508  19.05  0.4  0.6       1.099252\n",
      "4   0.0  127  12.70  0.3  0.5       1.080706\n",
      "NO OF PREDICTIONS 94\n",
      "NO OF ACTUAL 94\n"
     ]
    }
   ],
   "source": [
    "features = pd.read_excel('../test_code_new/trial_RF.xlsx')\n",
    "\n",
    "# features = features.iloc[:-3,:] \n",
    "\n",
    "# features = features.iloc[28:,:] # remove top 14 rows\n",
    "# features[features['N'] == 0.7]\n",
    "\n",
    "actual = np.array(features['energyPerMass'])\n",
    "\n",
    "# labels = np.array(features['Power/mass'])\n",
    "# labels = np.array(features['Power/mass'])\n",
    "\n",
    "\n",
    "print(features.head())\n",
    "max_IE_per_mass = labels.max()\n",
    "# labels = labels/max_IE_per_mass\n",
    "# print(max_IE_per_mass)\n",
    "\n",
    "# Remove the labels from the features\n",
    "# axis 1 refers to the columns\n",
    "features= features.drop('id', axis = 1)\n",
    "# features= features.drop('file', axis = 1)\n",
    "# features= features.drop('SimTime(s)', axis = 1)\n",
    "# features= features.drop('energy(J)', axis = 1)\n",
    "# features= features.drop('energy/sec(W)', axis = 1)\n",
    "# features= features.drop('ball mass (kg)', axis = 1)\n",
    "# features= features.drop('timePerRev(s)', axis = 1)\n",
    "features= features.drop('energyPerMass', axis = 1)\n",
    "# features= features.drop('Kp', axis = 1)\n",
    "# features= features.drop('Power/mass', axis = 1)\n",
    "# features= features.drop('Power', axis = 1)\n",
    "# features= features.drop('scaled P/M', axis = 1)\n",
    "# features= features.drop('rpm', axis = 1)\n",
    "\n",
    "# Scaling\n",
    "# scaler = StandardScaler()\n",
    "# scaler.fit(test_features)\n",
    "# scaled_data = scaler.transform(test_features)\n",
    "# test_features = scaled_data\n",
    "\n",
    "# predictions = rf.predict(features)\n",
    "predictions = model.predict(features)\n",
    "print(\"NO OF PREDICTIONS\", len(predictions))\n",
    "print(\"NO OF ACTUAL\",len(actual))\n",
    "# print(actual)\n",
    "# print(predictions)\n"
   ]
  },
  {
   "cell_type": "markdown",
   "metadata": {},
   "source": [
    "### Compare actual vs prediction"
   ]
  },
  {
   "cell_type": "code",
   "execution_count": 11,
   "metadata": {},
   "outputs": [
    {
     "name": "stdout",
     "output_type": "stream",
     "text": [
      "(94, 1)\n",
      "(94,)\n",
      "Mean Absolute Error: 0.69321 IE_per_mass.\n",
      "(94,)\n",
      "Accuracy: -10.62 %.\n",
      "Mean Sq Error : 0.4784798406196475\n",
      "r2 score : 0.20466146414178987\n",
      "0.7\n"
     ]
    }
   ],
   "source": [
    "# Calculate the absolute errors\n",
    "print(np.shape(predictions))\n",
    "print(np.shape(actual))\n",
    "errors = abs(predictions[0] - actual)\n",
    "# Print out the mean absolute error (mae)\n",
    "print('Mean Absolute Error:', round(np.mean(errors), 5), 'IE_per_mass.')\n",
    "\n",
    "# print(len(errors))\n",
    "print(np.shape(errors))\n",
    "maxlim = 22\n",
    "# Calculate mean absolute percentage error (MAPE)\n",
    "mape = 100 * (errors[maxlim:] / actual[maxlim:])\n",
    "# Calculate and display accuracy\n",
    "accuracy = 100 - np.mean(mape)\n",
    "print('Accuracy:', round(accuracy, 2), '%.')\n",
    "\n",
    "from sklearn.metrics import mean_absolute_error,mean_squared_error,r2_score\n",
    "# RMS\n",
    "print(\"Mean Sq Error :\",mean_squared_error(actual,predictions)**0.5)\n",
    "print(\"r2 score :\",r2_score(actual,predictions))\n",
    "print(actual[maxlim])"
   ]
  },
  {
   "cell_type": "code",
   "execution_count": 24,
   "metadata": {
    "scrolled": true
   },
   "outputs": [
    {
     "name": "stdout",
     "output_type": "stream",
     "text": [
      "TOTAL DATA 77\n",
      "NO OF INVALID 20\n",
      "NO OF VALID 57\n"
     ]
    },
    {
     "data": {
      "image/png": "[encoded data removed]",
      "text/plain": [
       "<Figure size 432x288 with 1 Axes>"
      ]
     },
     "metadata": {
      "needs_background": "light"
     },
     "output_type": "display_data"
    }
   ],
   "source": [
    "import matplotlib.pyplot as plt\n",
    "# Plot actual and prediction\n",
    "\n",
    "plt.rc('axes', labelsize=14) #font size of axes label\n",
    "plt.rc('xtick', labelsize=14) #font size of tick label\n",
    "plt.rc('ytick', labelsize=14) #font size of tick label\n",
    "\n",
    "fig = plt.figure()\n",
    "ax = fig.add_axes([0.2,0.2,0.7,0.7])\n",
    "\n",
    "ax.set_xlim(0,2)\n",
    "ax.set_ylim(0,2)\n",
    "\n",
    "x = np.arange(0.4,2,0.2)\n",
    "m = 1\n",
    "y = linear(m, x)\n",
    "\n",
    "colr = []\n",
    "\n",
    "# for col in features['D']:\n",
    "#     if(int(col) < 2900): colr.append('red')\n",
    "#     elif(int(col) > 2900 and int(col) < 4100): colr.append('blue') \n",
    "\n",
    "maxlim = 17\n",
    "valid = []\n",
    "invalid = []\n",
    "newAct = []\n",
    "newPred = []\n",
    "\n",
    "for i in range(len(actual[maxlim:])):\n",
    "    if (actual[maxlim+i]/predictions[maxlim+i] > 0.5 and actual[maxlim+i]/predictions[maxlim+i] < 1.7):\n",
    "#         valid.append(True)\n",
    "        newAct.append(actual[i+maxlim])\n",
    "        newPred.append(predictions[i+maxlim])\n",
    "        \n",
    "    else:\n",
    "#         valid.append(False)\n",
    "#         invalid.append((features.iloc[i+maxlim:i+maxlim+1,:],\"  \",str(actual[maxlim+i]/predictions[maxlim+i])))\n",
    "        invalid.append((features.iloc[i+maxlim:i+maxlim+1,:],\"  \",str(actual[maxlim+i]/predictions[maxlim+i])))\n",
    "\n",
    "\n",
    "\n",
    "print(\"TOTAL DATA\",len(actual[maxlim:]))\n",
    "print(\"NO OF INVALID\",len(invalid))\n",
    "print(\"NO OF VALID\", len(newAct))       \n",
    "\n",
    "\n",
    "ax.scatter(newAct, newPred,label=\"Prediction D >= 2000 mm\",c='blue')\n",
    "# ax.scatter(actual[maxlim:maxlim+45], predictions[maxlim:maxlim+45],label=\"Prediction D >= 2000 mm\",c='blue')\n",
    "ax.scatter(actual[:maxlim], predictions[:maxlim],label=\"Test data D <= 508 mm\",c='red', alpha=1)\n",
    "ax.plot(x,y,color='black', linestyle='dotted',linewidth=2.0, alpha=0.5)\n",
    "\n",
    "ax.set_ylabel(\"Predicted E$_i$ (W/kg)\")\n",
    "ax.set_xlabel(\"Actual E$_i$ (W/kg)\")\n",
    "# ax.text(0.2, 1.3, '$R^{2}$ = 0.27', fontsize=12)\n",
    "ax.text(0.2, 1.3, '$r$ = 0.27', fontsize=12)\n",
    "# ax.text(0.1, 1.1, 'accuracy = 58%', fontsize=12)\n",
    "# ax.text(0.55, 1.8, 'Test data D < 508 mm', fontsize=12)\n",
    "# ax.text(0.55, 1.7, 'Prediction D = 2000 mm', fontsize=12)\n",
    "# ax.text(0.55, 1.6, 'Prediction D = 4000 mm', fontsize=12)\n",
    "ax.legend(loc=\"upper right\")\n",
    "lg = ax.legend(loc=\"upper left\")\n",
    "lg.get_frame().set_alpha(0)\n",
    "\n",
    "plt.show()\n",
    "\n",
    "import os\n",
    "# save figure\n",
    "path = \"E:/mill/Paper/pics\"\n",
    "fout = os.path.join(path, \"PLSR_prediction_test.jpg\")\n",
    "# fout = os.path.join(path, \"LR_prediction_test.jpg\")\n",
    "# fout = os.path.join(path, \"ENR_prediction_test.jpg\")\n",
    "fig.savefig(fout, dpi=300)\n"
   ]
  },
  {
   "cell_type": "code",
   "execution_count": null,
   "metadata": {
    "scrolled": true
   },
   "outputs": [],
   "source": [
    "# # Use datetime for creating date objects for plotting\n",
    "# import datetime\n",
    "\n",
    "# # Dates of training values\n",
    "# months = features[:, feature_list.index('month')]\n",
    "# days = features[:, feature_list.index('day')]\n",
    "# years = features[:, feature_list.index('year')]\n",
    "\n",
    "\n",
    "# # List and then convert to datetime object\n",
    "# dates = [str(int(year)) + '-' + str(int(month)) + '-' + str(int(day)) for year, month, day in zip(years, months, days)]\n",
    "# dates = [datetime.datetime.strptime(date, '%Y-%m-%d') for date in dates]\n",
    "\n",
    "# # Dataframe with true values and dates\n",
    "# true_data = pd.DataFrame(data = {'date': dates, 'actual': labels})\n",
    "\n",
    "# # Dates of predictions\n",
    "# months = test_features[:, feature_list.index('month')]\n",
    "# days = test_features[:, feature_list.index('day')]\n",
    "# years = test_features[:, feature_list.index('year')]\n",
    "\n",
    "# # Column of     \n",
    "# test_dates = [str(int(year)) + '-' + str(int(month)) + '-' + str(int(day)) for year,\n",
    "\n",
    "\n",
    "\n",
    "\n",
    "\n",
    "\n",
    "# month, day in zip(years, months, days)]\n",
    "\n",
    "# # Convert to datetime objects\n",
    "# test_dates = [datetime.datetime.strptime(date, '%Y-%m-%d') for date in test_dates]\n",
    "\n",
    "# # Dataframe with predictions and dates\n",
    "# predictions_data = pd.DataFrame(data = {'date': test_dates, 'prediction': predictions})\n",
    "\n",
    "# # Plot the actual values\n",
    "# plt.plot(true_data['date'], true_data['actual'], 'b-', label = 'actual')\n",
    "\n",
    "# # Plot the predicted values\n",
    "# plt.plot(predictions_data['date'], predictions_data['prediction'], 'ro', label = 'prediction')\n",
    "# plt.xticks(rotation = '60'); \n",
    "# plt.legend()\n",
    "\n",
    "# # Graph labels\n",
    "# plt.xlabel('Date'); plt.ylabel('Maximum Temperature (F)'); plt.title('Actual and Predicted Values');"
   ]
  },
  {
   "cell_type": "code",
   "execution_count": null,
   "metadata": {},
   "outputs": [],
   "source": [
    "# # Make the data accessible for plotting\n",
    "# true_data['temp_1'] = features[:, feature_list.index('temp_1')]\n",
    "# true_data['average'] = features[:, feature_list.index('average')]\n",
    "# true_data['friend'] = features[:, feature_list.index('friend')]\n",
    "# # Plot all the data as lines\n",
    "# plt.plot(true_data['date'], true_data['actual'], 'b-', label  = 'actual', alpha = 1.0)\n",
    "# plt.plot(true_data['date'], true_data['temp_1'], 'y-', label  = 'temp_1', alpha = 1.0)\n",
    "# plt.plot(true_data['date'], true_data['average'], 'k-', label = 'average', alpha = 0.8)\n",
    "# plt.plot(true_data['date'], true_data['friend'], 'r-', label = 'friend', alpha = 0.3)\n",
    "# # Formatting plot\n",
    "# plt.legend(); plt.xticks(rotation = '60');\n",
    "# # Lables and title\n",
    "# plt.xlabel('Date'); plt.ylabel('Maximum Temperature (F)'); plt.title('Actual Max Temp and Variables');"
   ]
  },
  {
   "cell_type": "code",
   "execution_count": null,
   "metadata": {},
   "outputs": [],
   "source": []
  }
 ],
 "metadata": {
  "kernelspec": {
   "display_name": "Python 3",
   "language": "python",
   "name": "python3"
  },
  "language_info": {
   "codemirror_mode": {
    "name": "ipython",
    "version": 3
   },
   "file_extension": ".py",
   "mimetype": "text/x-python",
   "name": "python",
   "nbconvert_exporter": "python",
   "pygments_lexer": "ipython3",
   "version": "3.8.5"
  }
 },
 "nbformat": 4,
 "nbformat_minor": 4
}
